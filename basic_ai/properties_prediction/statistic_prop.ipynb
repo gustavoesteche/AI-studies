{
 "cells": [
  {
   "cell_type": "markdown",
   "metadata": {},
   "source": [
    "The objective of this notebook its to work on statistical properties of the prediction of ai models and how to interpert how good the model actually performs\n",
    "\n",
    "Lets divide the different analysis we can perform using the different types of models.\n",
    "\n",
    "### Regression \n",
    "\n",
    "* Mean Absolute Error (MAE)\n",
    "* Mean Square Error (MSE)\n",
    "* Variancy \n",
    "\n",
    "### Classification\n",
    "\n",
    "* F1-score\n",
    "* Recall\n",
    "* Accuracy \n"
   ]
  },
  {
   "cell_type": "code",
   "execution_count": null,
   "metadata": {},
   "outputs": [],
   "source": []
  }
 ],
 "metadata": {
  "language_info": {
   "name": "python"
  }
 },
 "nbformat": 4,
 "nbformat_minor": 2
}
